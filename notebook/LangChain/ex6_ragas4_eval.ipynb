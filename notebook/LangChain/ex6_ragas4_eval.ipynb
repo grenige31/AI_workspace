{
 "cells": [
  {
   "cell_type": "code",
   "execution_count": 33,
   "id": "afdf88fc-539f-4f5b-89af-5771cd7a5b66",
   "metadata": {},
   "outputs": [],
   "source": [
    "# https://medium.com/towards-data-science/evaluating-rag-applications-with-ragas-81d67b0ee31a"
   ]
  },
  {
   "cell_type": "code",
   "execution_count": 34,
   "id": "9f0bbf95-8b70-4f86-bf22-aab3f0c10bb3",
   "metadata": {},
   "outputs": [],
   "source": [
    "import os\n",
    "api_key = os.environ.get('OPENAI_API_KEY')\n"
   ]
  },
  {
   "cell_type": "code",
   "execution_count": 35,
   "id": "f33eacda-fe81-4889-9ec6-f53499655227",
   "metadata": {},
   "outputs": [],
   "source": [
    "from ragas.testset.generator import TestsetGenerator\n",
    "from ragas.testset.evolutions import simple, reasoning, multi_context\n",
    "from langchain_openai import ChatOpenAI, OpenAIEmbeddings\n",
    "from langchain.text_splitter import RecursiveCharacterTextSplitter\n",
    "from langchain.document_loaders import PyPDFLoader\n",
    "from langchain_community.document_loaders import TextLoader\n",
    "from langchain.vectorstores import Chroma\n",
    "\n",
    "from langchain.embeddings import OpenAIEmbeddings  #← OpenAIEmbeddings 가져오기\n",
    "import tiktoken\n"
   ]
  },
  {
   "cell_type": "code",
   "execution_count": 36,
   "id": "b0ef99e8-61f0-44d3-b681-bb7a2e1edff1",
   "metadata": {
    "scrolled": true
   },
   "outputs": [],
   "source": [
    "embeddings = OpenAIEmbeddings( #← OpenAIEmbeddings를 초기화\n",
    "    model=\"text-embedding-ada-002\" #← 모델명을 지정\n",
    ")"
   ]
  },
  {
   "cell_type": "code",
   "execution_count": 37,
   "id": "1eba893d-fcbc-4f32-a73c-fb6cb6ace8a5",
   "metadata": {},
   "outputs": [
    {
     "data": {
      "text/html": [
       "<div>\n",
       "<style scoped>\n",
       "    .dataframe tbody tr th:only-of-type {\n",
       "        vertical-align: middle;\n",
       "    }\n",
       "\n",
       "    .dataframe tbody tr th {\n",
       "        vertical-align: top;\n",
       "    }\n",
       "\n",
       "    .dataframe thead th {\n",
       "        text-align: right;\n",
       "    }\n",
       "</style>\n",
       "<table border=\"1\" class=\"dataframe\">\n",
       "  <thead>\n",
       "    <tr style=\"text-align: right;\">\n",
       "      <th></th>\n",
       "      <th>question</th>\n",
       "      <th>contexts</th>\n",
       "      <th>ground_truth</th>\n",
       "      <th>answer</th>\n",
       "    </tr>\n",
       "  </thead>\n",
       "  <tbody>\n",
       "    <tr>\n",
       "      <th>0</th>\n",
       "      <td>비행 차량 운전자는 어떤 교육을 받아야 하며, 그 능력을 어떻게 증명해야 하는가?</td>\n",
       "      <td>[�� 관리 기관이 정한 기준에 따라 정해진\\n다.\\n제5조 (운전자  교육 )\\n...</td>\n",
       "      <td>비행 차량 운전자는 자동 비행 시스템과 AI 작동에 대한 적절한 교육을 받아야 하며...</td>\n",
       "      <td>비행 차량 운전자는 자동 비행 시스템과 AI 작동에 대한 적절한 교육을 받아야 하며...</td>\n",
       "    </tr>\n",
       "    <tr>\n",
       "      <th>1</th>\n",
       "      <td>What is required to complete the education and...</td>\n",
       "      <td>[비행자동차 운전자격 및 허가법\\n제1조(목적 )\\n이 법은 비행자동차의 운전 자격...</td>\n",
       "      <td>To complete the education and training program...</td>\n",
       "      <td>To complete the education and training program...</td>\n",
       "    </tr>\n",
       "    <tr>\n",
       "      <th>2</th>\n",
       "      <td>비행 자동차의 자동 비행과 AI 사용에 대한 기준은 무엇인가?</td>\n",
       "      <td>[비행체 자동 비행 및 AI 사용법\\n제1조(목적 )\\n이 법은 비행 자동차의 자동...</td>\n",
       "      <td>비행 자동차의 자동 비행과 AI 사용에 대한 기준은 안전성과 신뢰성이 확보된 자동 ...</td>\n",
       "      <td>비행 자동차의 자동 비행과 AI 사용에 대한 기준은 안전성과 신뢰성이 확보된 자동 ...</td>\n",
       "    </tr>\n",
       "    <tr>\n",
       "      <th>3</th>\n",
       "      <td>비행코스나 경로를 이탈한 경우 어떤 벌금이 부과되나요?</td>\n",
       "      <td>[행하는 차량에 대해서는 정상적인 비행 코스와 \\n경로를 벗어나는 것이 허용된다.\\...</td>\n",
       "      <td>비행코스나 경로를 이탈한 경우 150만엔 이하의 벌금이 부과됩니다.</td>\n",
       "      <td>비행코스나 경로를 이탈한 경우 150만엔 이하의 벌금이 부과됩니다.</td>\n",
       "    </tr>\n",
       "    <tr>\n",
       "      <th>4</th>\n",
       "      <td>What is the role of the government in regulati...</td>\n",
       "      <td>[�의 징역 또\\n는 5억 원 이하의 벌금에 처한다 .\\n제5조(감독  및 지도 )...</td>\n",
       "      <td>The role of the government in regulating the e...</td>\n",
       "      <td>The role of the government in regulating the e...</td>\n",
       "    </tr>\n",
       "  </tbody>\n",
       "</table>\n",
       "</div>"
      ],
      "text/plain": [
       "                                            question  \\\n",
       "0      비행 차량 운전자는 어떤 교육을 받아야 하며, 그 능력을 어떻게 증명해야 하는가?   \n",
       "1  What is required to complete the education and...   \n",
       "2                 비행 자동차의 자동 비행과 AI 사용에 대한 기준은 무엇인가?   \n",
       "3                     비행코스나 경로를 이탈한 경우 어떤 벌금이 부과되나요?   \n",
       "4  What is the role of the government in regulati...   \n",
       "\n",
       "                                            contexts  \\\n",
       "0  [�� 관리 기관이 정한 기준에 따라 정해진\\n다.\\n제5조 (운전자  교육 )\\n...   \n",
       "1  [비행자동차 운전자격 및 허가법\\n제1조(목적 )\\n이 법은 비행자동차의 운전 자격...   \n",
       "2  [비행체 자동 비행 및 AI 사용법\\n제1조(목적 )\\n이 법은 비행 자동차의 자동...   \n",
       "3  [행하는 차량에 대해서는 정상적인 비행 코스와 \\n경로를 벗어나는 것이 허용된다.\\...   \n",
       "4  [�의 징역 또\\n는 5억 원 이하의 벌금에 처한다 .\\n제5조(감독  및 지도 )...   \n",
       "\n",
       "                                        ground_truth  \\\n",
       "0  비행 차량 운전자는 자동 비행 시스템과 AI 작동에 대한 적절한 교육을 받아야 하며...   \n",
       "1  To complete the education and training program...   \n",
       "2  비행 자동차의 자동 비행과 AI 사용에 대한 기준은 안전성과 신뢰성이 확보된 자동 ...   \n",
       "3              비행코스나 경로를 이탈한 경우 150만엔 이하의 벌금이 부과됩니다.   \n",
       "4  The role of the government in regulating the e...   \n",
       "\n",
       "                                              answer  \n",
       "0  비행 차량 운전자는 자동 비행 시스템과 AI 작동에 대한 적절한 교육을 받아야 하며...  \n",
       "1  To complete the education and training program...  \n",
       "2  비행 자동차의 자동 비행과 AI 사용에 대한 기준은 안전성과 신뢰성이 확보된 자동 ...  \n",
       "3              비행코스나 경로를 이탈한 경우 150만엔 이하의 벌금이 부과됩니다.  \n",
       "4  The role of the government in regulating the e...  "
      ]
     },
     "execution_count": 37,
     "metadata": {},
     "output_type": "execute_result"
    }
   ],
   "source": [
    "data_df.to_csv(TESTSET_FILE, index=False)\n",
    "data_df.head()"
   ]
  },
  {
   "cell_type": "code",
   "execution_count": null,
   "id": "02be0e79-9c49-4104-b04e-078a1794d683",
   "metadata": {},
   "outputs": [],
   "source": []
  },
  {
   "cell_type": "code",
   "execution_count": 38,
   "id": "20fd3139-8537-44a3-821d-eb29f23cde9a",
   "metadata": {},
   "outputs": [
    {
     "name": "stdout",
     "output_type": "stream",
     "text": [
      "Dataset({\n",
      "    features: ['question', 'contexts', 'ground_truth', 'answer'],\n",
      "    num_rows: 10\n",
      "})\n"
     ]
    }
   ],
   "source": [
    "\n",
    "dict_data = data_df.to_dict(orient='list')\n",
    "\n",
    "dataset = Dataset.from_dict(dict_data)\n",
    "\n",
    "amnesty_qa = dataset\n",
    "print(amnesty_qa)\n"
   ]
  },
  {
   "cell_type": "markdown",
   "id": "0ff43594-b3a4-4635-b134-e36c3dbc1e47",
   "metadata": {},
   "source": [
    "# Evaluate"
   ]
  },
  {
   "cell_type": "markdown",
   "id": "94b2d4af-914c-4961-8ac9-1fb86ffd84ed",
   "metadata": {},
   "source": [
    "### Load data from vectorDB"
   ]
  },
  {
   "cell_type": "code",
   "execution_count": 39,
   "id": "ef2ebece-ebd5-421a-9e0f-186c51816232",
   "metadata": {},
   "outputs": [],
   "source": [
    "chroma_db = Chroma(  #← Chroma를 초기화\n",
    "    persist_directory=CHROMA_DB_PATH,  #← 영속화 데이터 저장 위치 지정\n",
    "    embedding_function=embeddings  #← 벡터화할 모델을 지정\n",
    ")\n",
    "\n",
    "retriever = chroma_db.as_retriever()\n"
   ]
  },
  {
   "cell_type": "markdown",
   "id": "c35492f2-8ce3-4436-bae1-7e04a9053a67",
   "metadata": {},
   "source": [
    "### Load test set from file"
   ]
  },
  {
   "cell_type": "code",
   "execution_count": 40,
   "id": "fa7b96b3-3e76-426a-8fa8-0ea99a818589",
   "metadata": {},
   "outputs": [],
   "source": [
    "# data_df = pd.read_csv(TESTSET_FILE)\n",
    "# dict_data = data_df.to_dict(orient='list')\n",
    "# dataset = Dataset.from_dict(dict_data)\n",
    "# amnesty_qa = dataset\n"
   ]
  },
  {
   "cell_type": "markdown",
   "id": "efe305c6-7a1c-4091-b3ba-e790db5e80a9",
   "metadata": {},
   "source": [
    "### Create Rag Chain"
   ]
  },
  {
   "cell_type": "code",
   "execution_count": 41,
   "id": "1bd97241-38f1-4cb0-a5f2-c776faa35e42",
   "metadata": {},
   "outputs": [],
   "source": [
    "from langchain.chat_models import ChatOpenAI\n",
    "from langchain.prompts import ChatPromptTemplate\n",
    "from langchain.schema.runnable import RunnablePassthrough\n",
    "from langchain.schema.output_parser import StrOutputParser\n",
    "\n",
    "# Define LLM\n",
    "llm = ChatOpenAI(api_key=api_key,model_name=\"gpt-4o-mini\", temperature=0)\n",
    "\n",
    "# Define prompt template\n",
    "template = \"\"\"You are an assistant for question-answering tasks. \n",
    "Use the following pieces of retrieved context to answer the question. \n",
    "If you don't know the answer, just say that you don't know. \n",
    "Use two sentences maximum and keep the answer concise.\n",
    "Question: {question} \n",
    "Context: {context} \n",
    "Answer:\n",
    "\"\"\"\n",
    "\n",
    "prompt = ChatPromptTemplate.from_template(template)\n",
    "\n",
    "# Setup RAG pipeline\n",
    "rag_chain = (\n",
    "    {\"context\": retriever,  \"question\": RunnablePassthrough()} \n",
    "    | prompt \n",
    "    | llm\n",
    "    | StrOutputParser() \n",
    ")"
   ]
  },
  {
   "cell_type": "code",
   "execution_count": 42,
   "id": "1939adf8-8cce-43ee-b1ee-c5d83b034ef9",
   "metadata": {
    "scrolled": true
   },
   "outputs": [
    {
     "data": {
      "application/vnd.jupyter.widget-view+json": {
       "model_id": "fdbf972d5d1843b5b3de3e6a1faf57cf",
       "version_major": 2,
       "version_minor": 0
      },
      "text/plain": [
       "Evaluating:   0%|          | 0/40 [00:00<?, ?it/s]"
      ]
     },
     "metadata": {},
     "output_type": "display_data"
    },
    {
     "name": "stderr",
     "output_type": "stream",
     "text": [
      "No statements were generated from the answer.\n"
     ]
    },
    {
     "name": "stdout",
     "output_type": "stream",
     "text": [
      "{'context_precision': 0.9000, 'faithfulness': 0.7593, 'answer_relevancy': 0.8817, 'context_recall': 0.9000}\n"
     ]
    }
   ],
   "source": [
    "from ragas import evaluate\n",
    "\n",
    "from ragas.metrics import (\n",
    "    answer_relevancy,\n",
    "    faithfulness,\n",
    "    context_recall,\n",
    "    context_precision,\n",
    ")\n",
    "\n",
    "\n",
    "# amnesty_qa = dataset\n",
    "result = evaluate(\n",
    "    amnesty_qa,\n",
    "    metrics=[\n",
    "        context_precision,\n",
    "        faithfulness,\n",
    "        answer_relevancy,\n",
    "        context_recall,\n",
    "    ],\n",
    ")\n",
    "\n",
    "print(result)\n",
    "df = result.to_pandas()\n",
    "df.to_csv(EVAL_FILE, index=False)"
   ]
  },
  {
   "cell_type": "code",
   "execution_count": null,
   "id": "a07ad053-e4d8-4795-83e9-15fee9d53365",
   "metadata": {},
   "outputs": [],
   "source": []
  }
 ],
 "metadata": {
  "kernelspec": {
   "display_name": "Python 3 (ipykernel)",
   "language": "python",
   "name": "python3"
  },
  "language_info": {
   "codemirror_mode": {
    "name": "ipython",
    "version": 3
   },
   "file_extension": ".py",
   "mimetype": "text/x-python",
   "name": "python",
   "nbconvert_exporter": "python",
   "pygments_lexer": "ipython3",
   "version": "3.11.8"
  }
 },
 "nbformat": 4,
 "nbformat_minor": 5
}

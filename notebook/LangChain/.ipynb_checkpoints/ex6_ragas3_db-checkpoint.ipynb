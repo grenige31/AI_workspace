{
 "cells": [
  {
   "cell_type": "code",
   "execution_count": 58,
   "id": "afdf88fc-539f-4f5b-89af-5771cd7a5b66",
   "metadata": {},
   "outputs": [],
   "source": [
    "# https://medium.com/towards-data-science/evaluating-rag-applications-with-ragas-81d67b0ee31a"
   ]
  },
  {
   "cell_type": "code",
   "execution_count": 59,
   "id": "9f0bbf95-8b70-4f86-bf22-aab3f0c10bb3",
   "metadata": {},
   "outputs": [],
   "source": [
    "import os\n",
    "api_key = os.environ.get('OPENAI_API_KEY')"
   ]
  },
  {
   "cell_type": "code",
   "execution_count": 60,
   "id": "f33eacda-fe81-4889-9ec6-f53499655227",
   "metadata": {},
   "outputs": [],
   "source": [
    "from ragas.testset.generator import TestsetGenerator\n",
    "from ragas.testset.evolutions import simple, reasoning, multi_context\n",
    "from langchain_openai import ChatOpenAI, OpenAIEmbeddings\n",
    "from langchain.text_splitter import RecursiveCharacterTextSplitter\n",
    "from langchain.document_loaders import PyPDFLoader\n",
    "from langchain_community.document_loaders import TextLoader\n",
    "from langchain.vectorstores import Chroma\n",
    "\n",
    "from langchain.embeddings import OpenAIEmbeddings  #← OpenAIEmbeddings 가져오기\n",
    "import tiktoken\n"
   ]
  },
  {
   "cell_type": "code",
   "execution_count": 61,
   "id": "b0ef99e8-61f0-44d3-b681-bb7a2e1edff1",
   "metadata": {
    "scrolled": true
   },
   "outputs": [],
   "source": [
    "embeddings = OpenAIEmbeddings( #← OpenAIEmbeddings를 초기화\n",
    "    model=\"text-embedding-ada-002\" #← 모델명을 지정\n",
    ")"
   ]
  },
  {
   "cell_type": "markdown",
   "id": "6ee9b2d8-7695-4dc4-8c35-8cc1a4840077",
   "metadata": {},
   "source": [
    "# Generate test set"
   ]
  },
  {
   "cell_type": "code",
   "execution_count": 62,
   "id": "7a10381c-a68c-4c3b-bdfa-8460a5eae3c6",
   "metadata": {},
   "outputs": [],
   "source": [
    "FILE_PATH=\"./data/sample.pdf\"\n",
    "CHROMA_DB_PATH=\"./vector_db/chroma/sample\"\n",
    "TESTSET_FILE=\"pdf_testset.csv\"\n",
    "EVAL_FILE=\"pdf_eval.csv\"\n",
    "\n",
    "# FILE_PATH=\"./data/130292099630937500_KIFVIP2013-10.pdf\"\n",
    "# TESTSET_FILE=\"pdf1_testset.csv\"\n",
    "# EVAL_FILE=\"pdf1_eval.csv\"\n",
    "# CHROMA_DB_PATH=\"./vector_db/chroma/130292099630937500_KIFVIP2013\"\n",
    "\n",
    "loader = PyPDFLoader(FILE_PATH) #← sample.pdf 로드\n",
    "\n",
    "# FILE_PATH=\"./data/llm.txt\"\n",
    "# TESTSET_FILE=\"txt_testset.csv\"\n",
    "# EVAL_FILE=\"txt_eval.csv\"\n",
    "# CHROMA_DB_PATH=\"./vector_db/chroma/llm\"\n",
    "# loader = TextLoader(FILE_PATH) #← llm.txt 로드\n"
   ]
  },
  {
   "cell_type": "markdown",
   "id": "27499627-8a7a-4298-98e0-bb6fb6b87e1c",
   "metadata": {},
   "source": [
    "### Load document and Save To vectorDB"
   ]
  },
  {
   "cell_type": "code",
   "execution_count": 63,
   "id": "bd30979b-eb23-4fa4-a123-b32b0af62bd3",
   "metadata": {},
   "outputs": [
    {
     "name": "stdout",
     "output_type": "stream",
     "text": [
      "문서 개수: 12\n",
      "분할 전 문서 개수: 12\n",
      "분할 후 문서 개수: 41\n"
     ]
    },
    {
     "data": {
      "text/plain": [
       "['aea9f679-78ca-4204-a682-85d879bb3c27',\n",
       " '9c354eef-6d52-4ad2-9689-e9c35f123008',\n",
       " '77aec394-4f03-4c73-8388-69ab5e784612',\n",
       " 'd843c6ad-d196-40ac-861a-34db98537560',\n",
       " '27b0ac22-5a0f-4d64-a4c7-cabcb61e018f',\n",
       " '5c5bee27-480f-43a6-8bba-af1b76181087',\n",
       " 'dc2fb61b-86cd-4fa1-95fc-843b7220d042',\n",
       " 'f4484073-30bc-4aee-9c46-ca513427e782',\n",
       " 'ee299306-8677-4d46-a38f-bd7777043aac',\n",
       " '316a0871-0ae0-4162-9da2-7a2ced3603d5',\n",
       " '246457bf-ed34-4dfa-901c-36f520889136',\n",
       " '8347d106-4019-494f-83f2-b7ebd7abea5e',\n",
       " 'f6def1a3-ecb0-4aa0-bf40-91b91e13e6ea',\n",
       " '115c1eec-b2d9-4ade-8cd3-7f8ec308590f',\n",
       " 'db6cd784-f8c7-4caa-9355-c0feb1ff77ad',\n",
       " '37fbc0a1-39af-41a0-955a-33ad6cb043bd',\n",
       " '7653a8f7-2d0a-41f0-9026-4088717b0743',\n",
       " 'ee979c99-10f7-4794-a599-0a06bf36ff2e',\n",
       " 'c46bd367-43c1-43d7-a7a5-89b5bd083e14',\n",
       " '3028a754-fe0c-4571-b1b2-4bbc5d2deb6b',\n",
       " '91881f4f-6015-4870-86a1-b4eb48580197',\n",
       " '40ec738b-3ee2-48d2-a48b-db250e6cb2a0',\n",
       " '40cb7032-dae7-4456-8b12-3f4f4d4045d8',\n",
       " '241a927a-cef8-48d2-ba56-7e0826b0a70b',\n",
       " '0b34298b-405b-46d2-bb53-db8d9f1339f0',\n",
       " 'c253d0f9-bfd3-4e50-914f-c22147a6a804',\n",
       " 'ae1af128-164a-4d4e-a237-7ae37d7a7ca6',\n",
       " 'e452f04a-d58f-4035-9a66-49dbe9cc45ef',\n",
       " 'a19b26a8-6c2a-47dd-adfe-8de90a9d8c8f',\n",
       " '9bf4532b-b467-4924-9caa-3b28dfd5c90f',\n",
       " '8fdb9017-cf1f-43a5-ae5a-c5f0cb032ab4',\n",
       " '459c4e28-e2ca-45b6-ae53-fe7f45774061',\n",
       " '1a0ec87a-c0c4-4de9-ab46-440bf8cfb272',\n",
       " '001cd9f5-4dfc-4bd2-9ce8-81601027f1b2',\n",
       " 'ff4d55dd-ab6f-422a-ab8c-3c2f72a35b1e',\n",
       " '31b906df-4b1f-4862-b89c-dc2b9eeb43cc',\n",
       " 'f4244ea0-dc9c-479b-999b-4ed0b9bde184',\n",
       " '8523af47-49d1-4c5a-acba-2f4b7c7c0bae',\n",
       " '1749254a-71a2-4a29-9680-8b821027ef12',\n",
       " 'a43e354f-dde9-42a4-9a3e-f957f04a6074',\n",
       " '90ed49e2-60ff-498a-a132-217fea094461']"
      ]
     },
     "execution_count": 63,
     "metadata": {},
     "output_type": "execute_result"
    }
   ],
   "source": [
    "\n",
    "documents = loader.load()\n",
    "print(f\"문서 개수: {len(documents)}\") #← 문서 개수 확인\n",
    "\n",
    "def tiktoken_len(text):\n",
    "    tokenizer = tiktoken.get_encoding(\"cl100k_base\")\n",
    "    tokens = tokenizer.encode(text)\n",
    "    return len(tokens)\n",
    "    \n",
    "text_splitter = RecursiveCharacterTextSplitter(\n",
    "    chunk_size=300,\n",
    "    chunk_overlap=100,\n",
    "    length_function=tiktoken_len\n",
    ")    \n",
    "splitted_documents = text_splitter.split_documents(documents)\n",
    "print(f\"분할 전 문서 개수: {len(documents)}\")\n",
    "print(f\"분할 후 문서 개수: {len(splits)}\")\n",
    "\n",
    "\n",
    "chroma_db = Chroma(  #← Chroma를 초기화\n",
    "    persist_directory=CHROMA_DB_PATH,  #← 영속화 데이터 저장 위치 지정\n",
    "    embedding_function=embeddings  #← 벡터화할 모델을 지정\n",
    ")\n",
    "\n",
    "chroma_db.add_documents(  #← 문서를 데이터베이스에 추가\n",
    "    splitted_documents,  #← 추가할 문서 지정\n",
    ")\n"
   ]
  },
  {
   "cell_type": "markdown",
   "id": "aea0592a-55f3-4ab6-917a-589d28f81070",
   "metadata": {},
   "source": [
    "### Generate dataframe"
   ]
  },
  {
   "cell_type": "code",
   "execution_count": 64,
   "id": "f1e3e827-27e8-4abb-a6ab-cd15baac2673",
   "metadata": {},
   "outputs": [
    {
     "data": {
      "application/vnd.jupyter.widget-view+json": {
       "model_id": "",
       "version_major": 2,
       "version_minor": 0
      },
      "text/plain": [
       "embedding nodes:   0%|          | 0/44 [00:00<?, ?it/s]"
      ]
     },
     "metadata": {},
     "output_type": "display_data"
    },
    {
     "name": "stderr",
     "output_type": "stream",
     "text": [
      "Filename and doc_id are the same for all nodes.\n"
     ]
    },
    {
     "data": {
      "application/vnd.jupyter.widget-view+json": {
       "model_id": "ffea45d6343b44e6913ecdca6c0c11b8",
       "version_major": 2,
       "version_minor": 0
      },
      "text/plain": [
       "Generating:   0%|          | 0/10 [00:00<?, ?it/s]"
      ]
     },
     "metadata": {},
     "output_type": "display_data"
    },
    {
     "data": {
      "text/html": [
       "<div>\n",
       "<style scoped>\n",
       "    .dataframe tbody tr th:only-of-type {\n",
       "        vertical-align: middle;\n",
       "    }\n",
       "\n",
       "    .dataframe tbody tr th {\n",
       "        vertical-align: top;\n",
       "    }\n",
       "\n",
       "    .dataframe thead th {\n",
       "        text-align: right;\n",
       "    }\n",
       "</style>\n",
       "<table border=\"1\" class=\"dataframe\">\n",
       "  <thead>\n",
       "    <tr style=\"text-align: right;\">\n",
       "      <th></th>\n",
       "      <th>question</th>\n",
       "      <th>contexts</th>\n",
       "      <th>ground_truth</th>\n",
       "    </tr>\n",
       "  </thead>\n",
       "  <tbody>\n",
       "    <tr>\n",
       "      <th>0</th>\n",
       "      <td>비행 고도 제한법의 목적은 무엇인가?</td>\n",
       "      <td>[비행 자동차 고도 제한법\\n제1조(목적 )\\n이 법은 비행자동차의 비행안전 및 주...</td>\n",
       "      <td>비행 고도 제한법의 목적은 비행자동차의 비행안전 및 주민의 안전을 확보하기 위하여 ...</td>\n",
       "    </tr>\n",
       "    <tr>\n",
       "      <th>1</th>\n",
       "      <td>비행체 통신 시스템법의 목적은 무엇인가?</td>\n",
       "      <td>[비행체 통신 시스템법\\n제1조(목적 )\\n이 법은 비행자동차의 적절한 운영과 안전...</td>\n",
       "      <td>비행체 통신 시스템법의 목적은 비행자동차의 적절한 운영과 안전한 비행을 보장하기 위...</td>\n",
       "    </tr>\n",
       "    <tr>\n",
       "      <th>2</th>\n",
       "      <td>고도제한을 위반할 경우 어떤 처벌이 부과되나요?</td>\n",
       "      <td>[��하고 기록하는 장치를 의무적으로 탑재해야 한다.\\n2.제1항의 장비의 사양 및...</td>\n",
       "      <td>고도제한을 위반할 경우 150만엔 이하의 벌금에 처해지며, 중대한 사고를 유발하거나...</td>\n",
       "    </tr>\n",
       "    <tr>\n",
       "      <th>3</th>\n",
       "      <td>What is the role of 항공교통관제 in the communicatio...</td>\n",
       "      <td>[비행체 통신 시스템법\\n제1조(목적 )\\n이 법은 비행자동차의 적절한 운영과 안전...</td>\n",
       "      <td>The answer to given question is not present in...</td>\n",
       "    </tr>\n",
       "    <tr>\n",
       "      <th>4</th>\n",
       "      <td>What are the requirements for noise regulation...</td>\n",
       "      <td>[비행차 소음 규제법\\n제1조(목적 )\\n이 법은 비행자동차로 인한 소음의 영향을 ...</td>\n",
       "      <td>The requirements for noise regulation standard...</td>\n",
       "    </tr>\n",
       "  </tbody>\n",
       "</table>\n",
       "</div>"
      ],
      "text/plain": [
       "                                            question  \\\n",
       "0                               비행 고도 제한법의 목적은 무엇인가?   \n",
       "1                             비행체 통신 시스템법의 목적은 무엇인가?   \n",
       "2                         고도제한을 위반할 경우 어떤 처벌이 부과되나요?   \n",
       "3  What is the role of 항공교통관제 in the communicatio...   \n",
       "4  What are the requirements for noise regulation...   \n",
       "\n",
       "                                            contexts  \\\n",
       "0  [비행 자동차 고도 제한법\\n제1조(목적 )\\n이 법은 비행자동차의 비행안전 및 주...   \n",
       "1  [비행체 통신 시스템법\\n제1조(목적 )\\n이 법은 비행자동차의 적절한 운영과 안전...   \n",
       "2  [��하고 기록하는 장치를 의무적으로 탑재해야 한다.\\n2.제1항의 장비의 사양 및...   \n",
       "3  [비행체 통신 시스템법\\n제1조(목적 )\\n이 법은 비행자동차의 적절한 운영과 안전...   \n",
       "4  [비행차 소음 규제법\\n제1조(목적 )\\n이 법은 비행자동차로 인한 소음의 영향을 ...   \n",
       "\n",
       "                                        ground_truth  \n",
       "0  비행 고도 제한법의 목적은 비행자동차의 비행안전 및 주민의 안전을 확보하기 위하여 ...  \n",
       "1  비행체 통신 시스템법의 목적은 비행자동차의 적절한 운영과 안전한 비행을 보장하기 위...  \n",
       "2  고도제한을 위반할 경우 150만엔 이하의 벌금에 처해지며, 중대한 사고를 유발하거나...  \n",
       "3  The answer to given question is not present in...  \n",
       "4  The requirements for noise regulation standard...  "
      ]
     },
     "execution_count": 64,
     "metadata": {},
     "output_type": "execute_result"
    }
   ],
   "source": [
    "\n",
    "generator_llm = ChatOpenAI(api_key=api_key,model=\"gpt-4o-mini\")\n",
    "critic_llm = ChatOpenAI(api_key=api_key,model=\"gpt-4o-mini\")\n",
    "# embeddings = OpenAIEmbeddings()\n",
    "\n",
    "generator = TestsetGenerator.from_langchain(\n",
    "    generator_llm,\n",
    "    critic_llm,\n",
    "    embeddings\n",
    ")\n",
    "\n",
    "testset = generator.generate_with_langchain_docs(documents, test_size=10, distributions={simple: 0.5, reasoning: 0.25, multi_context: 0.25})\n",
    "# testset.to_pandas().to_csv(TESTSET_FILE, index=False)\n",
    "testset_df=testset.to_pandas()\n",
    "testset_df=testset_df.drop(columns=[\"evolution_type\",\"metadata\",\"episode_done\"])\n",
    "testset_df.to_csv(TESTSET_FILE, index=False)\n",
    "testset_df.head()"
   ]
  },
  {
   "cell_type": "markdown",
   "id": "4d498370-ce9e-4043-bb73-a6e6e838d273",
   "metadata": {},
   "source": [
    "### create test set and save to file"
   ]
  },
  {
   "cell_type": "code",
   "execution_count": 65,
   "id": "88cc53a4-58ea-4198-bede-7cfe0029805a",
   "metadata": {
    "scrolled": true
   },
   "outputs": [
    {
     "name": "stdout",
     "output_type": "stream",
     "text": [
      "Dataset({\n",
      "    features: ['question', 'contexts', 'ground_truth', 'answer'],\n",
      "    num_rows: 10\n",
      "})\n"
     ]
    }
   ],
   "source": [
    "from datasets import load_dataset\n",
    "from datasets import Dataset \n",
    "import pandas as pd\n",
    "import json \n",
    "import ast\n",
    "\n",
    "data_df = pd.read_csv(TESTSET_FILE)\n",
    "data_df['contexts'] = data_df['contexts'].apply(ast.literal_eval)  # convert string to list\n",
    "data_df['answer'] = data_df['ground_truth']\n",
    "data_df.to_csv(TESTSET_FILE, index=False)\n",
    "\n",
    "dict_data = data_df.to_dict(orient='list')\n",
    "\n",
    "dataset = Dataset.from_dict(dict_data)\n",
    "\n",
    "amnesty_qa = dataset\n",
    "print(amnesty_qa)\n"
   ]
  },
  {
   "cell_type": "markdown",
   "id": "0ff43594-b3a4-4635-b134-e36c3dbc1e47",
   "metadata": {},
   "source": [
    "# Evaluate"
   ]
  },
  {
   "cell_type": "markdown",
   "id": "94b2d4af-914c-4961-8ac9-1fb86ffd84ed",
   "metadata": {},
   "source": [
    "### Load data from vectorDB"
   ]
  },
  {
   "cell_type": "code",
   "execution_count": 66,
   "id": "ef2ebece-ebd5-421a-9e0f-186c51816232",
   "metadata": {},
   "outputs": [],
   "source": [
    "chroma_db = Chroma(  #← Chroma를 초기화\n",
    "    persist_directory=CHROMA_DB_PATH,  #← 영속화 데이터 저장 위치 지정\n",
    "    embedding_function=embeddings  #← 벡터화할 모델을 지정\n",
    ")\n",
    "\n",
    "retriever = chroma_db.as_retriever()\n"
   ]
  },
  {
   "cell_type": "markdown",
   "id": "c35492f2-8ce3-4436-bae1-7e04a9053a67",
   "metadata": {},
   "source": [
    "### Load test set from file"
   ]
  },
  {
   "cell_type": "code",
   "execution_count": 67,
   "id": "fa7b96b3-3e76-426a-8fa8-0ea99a818589",
   "metadata": {},
   "outputs": [],
   "source": [
    "# data_df = pd.read_csv(TESTSET_FILE)\n",
    "# dict_data = data_df.to_dict(orient='list')\n",
    "# dataset = Dataset.from_dict(dict_data)\n",
    "# amnesty_qa = dataset\n"
   ]
  },
  {
   "cell_type": "markdown",
   "id": "efe305c6-7a1c-4091-b3ba-e790db5e80a9",
   "metadata": {},
   "source": [
    "### Create Rag Chain"
   ]
  },
  {
   "cell_type": "code",
   "execution_count": 68,
   "id": "1bd97241-38f1-4cb0-a5f2-c776faa35e42",
   "metadata": {},
   "outputs": [],
   "source": [
    "from langchain.chat_models import ChatOpenAI\n",
    "from langchain.prompts import ChatPromptTemplate\n",
    "from langchain.schema.runnable import RunnablePassthrough\n",
    "from langchain.schema.output_parser import StrOutputParser\n",
    "\n",
    "# Define LLM\n",
    "llm = ChatOpenAI(api_key=api_key,model_name=\"gpt-4o-mini\", temperature=0)\n",
    "\n",
    "# Define prompt template\n",
    "template = \"\"\"You are an assistant for question-answering tasks. \n",
    "Use the following pieces of retrieved context to answer the question. \n",
    "If you don't know the answer, just say that you don't know. \n",
    "Use two sentences maximum and keep the answer concise.\n",
    "Question: {question} \n",
    "Context: {context} \n",
    "Answer:\n",
    "\"\"\"\n",
    "\n",
    "prompt = ChatPromptTemplate.from_template(template)\n",
    "\n",
    "# Setup RAG pipeline\n",
    "rag_chain = (\n",
    "    {\"context\": retriever,  \"question\": RunnablePassthrough()} \n",
    "    | prompt \n",
    "    | llm\n",
    "    | StrOutputParser() \n",
    ")"
   ]
  },
  {
   "cell_type": "code",
   "execution_count": 69,
   "id": "1939adf8-8cce-43ee-b1ee-c5d83b034ef9",
   "metadata": {},
   "outputs": [
    {
     "data": {
      "application/vnd.jupyter.widget-view+json": {
       "model_id": "37e6d79c052e4e6b87de6b5d14fcb556",
       "version_major": 2,
       "version_minor": 0
      },
      "text/plain": [
       "Evaluating:   0%|          | 0/40 [00:00<?, ?it/s]"
      ]
     },
     "metadata": {},
     "output_type": "display_data"
    },
    {
     "name": "stderr",
     "output_type": "stream",
     "text": [
      "No statements were generated from the answer.\n",
      "Failed to parse output. Returning None.\n"
     ]
    },
    {
     "name": "stdout",
     "output_type": "stream",
     "text": [
      "{'context_precision': 0.8000, 'faithfulness': 0.7593, 'answer_relevancy': 0.7672, 'context_recall': 0.8889}\n"
     ]
    }
   ],
   "source": [
    "from ragas import evaluate\n",
    "\n",
    "from ragas.metrics import (\n",
    "    answer_relevancy,\n",
    "    faithfulness,\n",
    "    context_recall,\n",
    "    context_precision,\n",
    ")\n",
    "\n",
    "\n",
    "# amnesty_qa = dataset\n",
    "result = evaluate(\n",
    "    amnesty_qa,\n",
    "    metrics=[\n",
    "        context_precision,\n",
    "        faithfulness,\n",
    "        answer_relevancy,\n",
    "        context_recall,\n",
    "    ],\n",
    ")\n",
    "\n",
    "print(result)\n",
    "df = result.to_pandas()\n",
    "df.to_csv(EVAL_FILE, index=False)"
   ]
  },
  {
   "cell_type": "code",
   "execution_count": null,
   "id": "a07ad053-e4d8-4795-83e9-15fee9d53365",
   "metadata": {},
   "outputs": [],
   "source": []
  }
 ],
 "metadata": {
  "kernelspec": {
   "display_name": "Python 3 (ipykernel)",
   "language": "python",
   "name": "python3"
  },
  "language_info": {
   "codemirror_mode": {
    "name": "ipython",
    "version": 3
   },
   "file_extension": ".py",
   "mimetype": "text/x-python",
   "name": "python",
   "nbconvert_exporter": "python",
   "pygments_lexer": "ipython3",
   "version": "3.11.8"
  }
 },
 "nbformat": 4,
 "nbformat_minor": 5
}
